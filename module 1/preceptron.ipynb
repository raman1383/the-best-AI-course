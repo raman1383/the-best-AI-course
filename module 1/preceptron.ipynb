import torch
import torch.nn as nn
import torch.optim as optim
from torchvision import datasets, transforms
import matplotlib.pyplot as plt
